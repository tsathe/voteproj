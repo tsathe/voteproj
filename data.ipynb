{
 "cells": [
  {
   "cell_type": "code",
   "execution_count": 89,
   "metadata": {},
   "outputs": [],
   "source": [
    "import pandas as pd"
   ]
  },
  {
   "cell_type": "code",
   "execution_count": 90,
   "metadata": {},
   "outputs": [],
   "source": [
    "df = pd.read_csv('rawdata.csv')"
   ]
  },
  {
   "cell_type": "code",
   "execution_count": 91,
   "metadata": {},
   "outputs": [
    {
     "data": {
      "text/plain": [
       "33"
      ]
     },
     "execution_count": 91,
     "metadata": {},
     "output_type": "execute_result"
    }
   ],
   "source": [
    "len(df.index)"
   ]
  },
  {
   "cell_type": "markdown",
   "metadata": {},
   "source": [
    "We want to make sure there are no duplicate responses in the survey. Since 'Submission ID' is always unique, we generate a list of columns in the data frame excluding 'Submission ID'"
   ]
  },
  {
   "cell_type": "code",
   "execution_count": 92,
   "metadata": {},
   "outputs": [],
   "source": [
    "dup_cols = [col for col in df.columns if col not in ['Submission ID', 'Submitted at']]"
   ]
  },
  {
   "cell_type": "code",
   "execution_count": 93,
   "metadata": {},
   "outputs": [],
   "source": [
    "df_clean = df.drop_duplicates(subset=dup_cols)"
   ]
  },
  {
   "cell_type": "code",
   "execution_count": 94,
   "metadata": {},
   "outputs": [
    {
     "data": {
      "text/plain": [
       "32"
      ]
     },
     "execution_count": 94,
     "metadata": {},
     "output_type": "execute_result"
    }
   ],
   "source": [
    "len(df_clean)"
   ]
  },
  {
   "cell_type": "markdown",
   "metadata": {},
   "source": [
    "We have removed one duplicate response which had the same answers and the same 'Respondent ID'. That leaves 32 responses. Next, we want to see how many responses we have for each PGY level. "
   ]
  },
  {
   "cell_type": "code",
   "execution_count": 95,
   "metadata": {},
   "outputs": [
    {
     "data": {
      "text/html": [
       "<div>\n",
       "<style scoped>\n",
       "    .dataframe tbody tr th:only-of-type {\n",
       "        vertical-align: middle;\n",
       "    }\n",
       "\n",
       "    .dataframe tbody tr th {\n",
       "        vertical-align: top;\n",
       "    }\n",
       "\n",
       "    .dataframe thead th {\n",
       "        text-align: right;\n",
       "    }\n",
       "</style>\n",
       "<table border=\"1\" class=\"dataframe\">\n",
       "  <thead>\n",
       "    <tr style=\"text-align: right;\">\n",
       "      <th></th>\n",
       "      <th>count</th>\n",
       "    </tr>\n",
       "    <tr>\n",
       "      <th>PGY year?</th>\n",
       "      <th></th>\n",
       "    </tr>\n",
       "  </thead>\n",
       "  <tbody>\n",
       "    <tr>\n",
       "      <th>PGY1</th>\n",
       "      <td>7</td>\n",
       "    </tr>\n",
       "    <tr>\n",
       "      <th>PGY2</th>\n",
       "      <td>5</td>\n",
       "    </tr>\n",
       "    <tr>\n",
       "      <th>PGY3</th>\n",
       "      <td>5</td>\n",
       "    </tr>\n",
       "    <tr>\n",
       "      <th>PGY4</th>\n",
       "      <td>4</td>\n",
       "    </tr>\n",
       "    <tr>\n",
       "      <th>PGY5</th>\n",
       "      <td>4</td>\n",
       "    </tr>\n",
       "    <tr>\n",
       "      <th>Research Resident</th>\n",
       "      <td>7</td>\n",
       "    </tr>\n",
       "  </tbody>\n",
       "</table>\n",
       "</div>"
      ],
      "text/plain": [
       "                   count\n",
       "PGY year?               \n",
       "PGY1                   7\n",
       "PGY2                   5\n",
       "PGY3                   5\n",
       "PGY4                   4\n",
       "PGY5                   4\n",
       "Research Resident      7"
      ]
     },
     "execution_count": 95,
     "metadata": {},
     "output_type": "execute_result"
    }
   ],
   "source": [
    "df_response = df_clean.groupby('PGY year?').agg(\n",
    "    count = ('Submission ID', 'nunique')\n",
    ")\n",
    "\n",
    "df_response"
   ]
  },
  {
   "cell_type": "markdown",
   "metadata": {},
   "source": [
    "We will now calculate the number of respondents who said they were not eligible to vote in the 2022 U.S. Midterm Election."
   ]
  },
  {
   "cell_type": "code",
   "execution_count": 96,
   "metadata": {},
   "outputs": [
    {
     "data": {
      "text/plain": [
       "4"
      ]
     },
     "execution_count": 96,
     "metadata": {},
     "output_type": "execute_result"
    }
   ],
   "source": [
    "(df_clean['Did you vote in the 2022 Midterm Election?'] == 'I am not eligible to vote (i.e. non-US citizen)').sum()"
   ]
  },
  {
   "cell_type": "code",
   "execution_count": 97,
   "metadata": {},
   "outputs": [],
   "source": [
    "df_eligible = df_clean[df_clean['Did you vote in the 2022 Midterm Election?'] != 'I am not eligible to vote (i.e. non-US citizen)']"
   ]
  },
  {
   "cell_type": "code",
   "execution_count": 98,
   "metadata": {},
   "outputs": [
    {
     "data": {
      "text/plain": [
       "28"
      ]
     },
     "execution_count": 98,
     "metadata": {},
     "output_type": "execute_result"
    }
   ],
   "source": [
    "len(df_eligible.index)"
   ]
  },
  {
   "cell_type": "markdown",
   "metadata": {},
   "source": [
    "We have 28 respondents who were eligible to vote in the election. Next, we will create a new column indicating whether each eligible respondent voted (1) or did not vote (0)."
   ]
  },
  {
   "cell_type": "code",
   "execution_count": 99,
   "metadata": {},
   "outputs": [
    {
     "name": "stderr",
     "output_type": "stream",
     "text": [
      "/var/folders/tc/rrbf67xd4h98qrpph8v1h9c00000gn/T/ipykernel_21046/815959324.py:7: SettingWithCopyWarning: \n",
      "A value is trying to be set on a copy of a slice from a DataFrame.\n",
      "Try using .loc[row_indexer,col_indexer] = value instead\n",
      "\n",
      "See the caveats in the documentation: https://pandas.pydata.org/pandas-docs/stable/user_guide/indexing.html#returning-a-view-versus-a-copy\n",
      "  df_eligible['did_vote'] = df_eligible.apply(\n"
     ]
    }
   ],
   "source": [
    "def did_vote(response):\n",
    "    if response == 'Yes':\n",
    "        return 1\n",
    "    else:\n",
    "        return 0\n",
    "\n",
    "df_eligible['did_vote'] = df_eligible.apply(\n",
    "    lambda x:\n",
    "    did_vote(x['Did you vote in the 2022 Midterm Election?']),\n",
    "    axis=1\n",
    ")\n"
   ]
  },
  {
   "cell_type": "markdown",
   "metadata": {},
   "source": [
    "Now we will look at where respondents are registered to vote. 14 are registered to vote in the same state as our institution (New York) and two are unsure."
   ]
  },
  {
   "cell_type": "code",
   "execution_count": 100,
   "metadata": {},
   "outputs": [
    {
     "data": {
      "text/html": [
       "<div>\n",
       "<style scoped>\n",
       "    .dataframe tbody tr th:only-of-type {\n",
       "        vertical-align: middle;\n",
       "    }\n",
       "\n",
       "    .dataframe tbody tr th {\n",
       "        vertical-align: top;\n",
       "    }\n",
       "\n",
       "    .dataframe thead th {\n",
       "        text-align: right;\n",
       "    }\n",
       "</style>\n",
       "<table border=\"1\" class=\"dataframe\">\n",
       "  <thead>\n",
       "    <tr style=\"text-align: right;\">\n",
       "      <th></th>\n",
       "      <th>count</th>\n",
       "    </tr>\n",
       "    <tr>\n",
       "      <th>Are you registered to vote in the same state as your institution?</th>\n",
       "      <th></th>\n",
       "    </tr>\n",
       "  </thead>\n",
       "  <tbody>\n",
       "    <tr>\n",
       "      <th>I am not sure</th>\n",
       "      <td>2</td>\n",
       "    </tr>\n",
       "    <tr>\n",
       "      <th>No</th>\n",
       "      <td>12</td>\n",
       "    </tr>\n",
       "    <tr>\n",
       "      <th>Yes</th>\n",
       "      <td>14</td>\n",
       "    </tr>\n",
       "  </tbody>\n",
       "</table>\n",
       "</div>"
      ],
      "text/plain": [
       "                                                    count\n",
       "Are you registered to vote in the same state as...       \n",
       "I am not sure                                           2\n",
       "No                                                     12\n",
       "Yes                                                    14"
      ]
     },
     "execution_count": 100,
     "metadata": {},
     "output_type": "execute_result"
    }
   ],
   "source": [
    "df_samestate = df_eligible.groupby('Are you registered to vote in the same state as your institution?').agg(\n",
    "    count = ('Respondent ID', 'nunique')\n",
    ")\n",
    "\n",
    "df_samestate"
   ]
  },
  {
   "cell_type": "markdown",
   "metadata": {},
   "source": [
    "Among those who are not registered in New York or unsure, we will see where they are registered."
   ]
  },
  {
   "cell_type": "code",
   "execution_count": 101,
   "metadata": {},
   "outputs": [
    {
     "data": {
      "text/html": [
       "<div>\n",
       "<style scoped>\n",
       "    .dataframe tbody tr th:only-of-type {\n",
       "        vertical-align: middle;\n",
       "    }\n",
       "\n",
       "    .dataframe tbody tr th {\n",
       "        vertical-align: top;\n",
       "    }\n",
       "\n",
       "    .dataframe thead th {\n",
       "        text-align: right;\n",
       "    }\n",
       "</style>\n",
       "<table border=\"1\" class=\"dataframe\">\n",
       "  <thead>\n",
       "    <tr style=\"text-align: right;\">\n",
       "      <th></th>\n",
       "      <th>count</th>\n",
       "    </tr>\n",
       "    <tr>\n",
       "      <th>In which state are you registered?</th>\n",
       "      <th></th>\n",
       "    </tr>\n",
       "  </thead>\n",
       "  <tbody>\n",
       "    <tr>\n",
       "      <th>Alabama (AL)</th>\n",
       "      <td>1</td>\n",
       "    </tr>\n",
       "    <tr>\n",
       "      <th>California (CA)</th>\n",
       "      <td>1</td>\n",
       "    </tr>\n",
       "    <tr>\n",
       "      <th>Florida (FL)</th>\n",
       "      <td>1</td>\n",
       "    </tr>\n",
       "    <tr>\n",
       "      <th>New Jersey (NJ)</th>\n",
       "      <td>5</td>\n",
       "    </tr>\n",
       "    <tr>\n",
       "      <th>Ohio (OH)</th>\n",
       "      <td>1</td>\n",
       "    </tr>\n",
       "    <tr>\n",
       "      <th>Pennsylvania (PA)</th>\n",
       "      <td>2</td>\n",
       "    </tr>\n",
       "    <tr>\n",
       "      <th>Virginia (VA)</th>\n",
       "      <td>1</td>\n",
       "    </tr>\n",
       "  </tbody>\n",
       "</table>\n",
       "</div>"
      ],
      "text/plain": [
       "                                    count\n",
       "In which state are you registered?       \n",
       "Alabama (AL)                            1\n",
       "California (CA)                         1\n",
       "Florida (FL)                            1\n",
       "New Jersey (NJ)                         5\n",
       "Ohio (OH)                               1\n",
       "Pennsylvania (PA)                       2\n",
       "Virginia (VA)                           1"
      ]
     },
     "execution_count": 101,
     "metadata": {},
     "output_type": "execute_result"
    }
   ],
   "source": [
    "df_state = df_eligible.groupby('In which state are you registered?').agg(\n",
    "    count = ('Respondent ID', 'nunique')\n",
    ")\n",
    "\n",
    "df_state"
   ]
  },
  {
   "cell_type": "markdown",
   "metadata": {},
   "source": [
    "We will now calculate the sum of the new column, which will give us the number of respondents who voted."
   ]
  },
  {
   "cell_type": "code",
   "execution_count": 102,
   "metadata": {},
   "outputs": [
    {
     "data": {
      "text/plain": [
       "13"
      ]
     },
     "execution_count": 102,
     "metadata": {},
     "output_type": "execute_result"
    }
   ],
   "source": [
    "df_eligible['did_vote'].sum()"
   ]
  },
  {
   "cell_type": "markdown",
   "metadata": {},
   "source": [
    "Dividing that number by the total respondents yields overall turnout"
   ]
  },
  {
   "cell_type": "code",
   "execution_count": 103,
   "metadata": {},
   "outputs": [
    {
     "data": {
      "text/plain": [
       "0.4642857142857143"
      ]
     },
     "execution_count": 103,
     "metadata": {},
     "output_type": "execute_result"
    }
   ],
   "source": [
    "turnout = df_eligible['did_vote'].sum()/len(df_eligible.index)\n",
    "turnout"
   ]
  },
  {
   "cell_type": "markdown",
   "metadata": {},
   "source": [
    "Now we will look at turnout by PGY Level"
   ]
  },
  {
   "cell_type": "code",
   "execution_count": 104,
   "metadata": {},
   "outputs": [
    {
     "data": {
      "text/html": [
       "<div>\n",
       "<style scoped>\n",
       "    .dataframe tbody tr th:only-of-type {\n",
       "        vertical-align: middle;\n",
       "    }\n",
       "\n",
       "    .dataframe tbody tr th {\n",
       "        vertical-align: top;\n",
       "    }\n",
       "\n",
       "    .dataframe thead th {\n",
       "        text-align: right;\n",
       "    }\n",
       "</style>\n",
       "<table border=\"1\" class=\"dataframe\">\n",
       "  <thead>\n",
       "    <tr style=\"text-align: right;\">\n",
       "      <th></th>\n",
       "      <th>PGY year?</th>\n",
       "      <th>vote</th>\n",
       "      <th>count</th>\n",
       "      <th>pct_voting</th>\n",
       "    </tr>\n",
       "  </thead>\n",
       "  <tbody>\n",
       "    <tr>\n",
       "      <th>0</th>\n",
       "      <td>PGY1</td>\n",
       "      <td>3</td>\n",
       "      <td>7</td>\n",
       "      <td>0.428571</td>\n",
       "    </tr>\n",
       "    <tr>\n",
       "      <th>1</th>\n",
       "      <td>PGY2</td>\n",
       "      <td>1</td>\n",
       "      <td>4</td>\n",
       "      <td>0.250000</td>\n",
       "    </tr>\n",
       "    <tr>\n",
       "      <th>2</th>\n",
       "      <td>PGY3</td>\n",
       "      <td>3</td>\n",
       "      <td>5</td>\n",
       "      <td>0.600000</td>\n",
       "    </tr>\n",
       "    <tr>\n",
       "      <th>3</th>\n",
       "      <td>PGY4</td>\n",
       "      <td>1</td>\n",
       "      <td>4</td>\n",
       "      <td>0.250000</td>\n",
       "    </tr>\n",
       "    <tr>\n",
       "      <th>4</th>\n",
       "      <td>PGY5</td>\n",
       "      <td>0</td>\n",
       "      <td>3</td>\n",
       "      <td>0.000000</td>\n",
       "    </tr>\n",
       "    <tr>\n",
       "      <th>5</th>\n",
       "      <td>Research Resident</td>\n",
       "      <td>5</td>\n",
       "      <td>5</td>\n",
       "      <td>1.000000</td>\n",
       "    </tr>\n",
       "  </tbody>\n",
       "</table>\n",
       "</div>"
      ],
      "text/plain": [
       "           PGY year?  vote  count  pct_voting\n",
       "0               PGY1     3      7    0.428571\n",
       "1               PGY2     1      4    0.250000\n",
       "2               PGY3     3      5    0.600000\n",
       "3               PGY4     1      4    0.250000\n",
       "4               PGY5     0      3    0.000000\n",
       "5  Research Resident     5      5    1.000000"
      ]
     },
     "execution_count": 104,
     "metadata": {},
     "output_type": "execute_result"
    }
   ],
   "source": [
    "df_turnout = df_eligible.groupby('PGY year?').agg(\n",
    "    vote = ('did_vote', 'sum'),\n",
    "    count = ('Respondent ID', 'nunique')\n",
    ")\n",
    "\n",
    "df_turnout.reset_index(inplace=True)\n",
    "df_turnout['pct_voting'] = df_turnout['vote']/df_turnout['count']\n",
    "df_turnout"
   ]
  },
  {
   "cell_type": "markdown",
   "metadata": {},
   "source": [
    "Next we will look at barriers to voting amongst the respondents who did not vote. It looks like there are 15 non-voters."
   ]
  },
  {
   "cell_type": "code",
   "execution_count": 105,
   "metadata": {},
   "outputs": [
    {
     "data": {
      "text/plain": [
       "15"
      ]
     },
     "execution_count": 105,
     "metadata": {},
     "output_type": "execute_result"
    }
   ],
   "source": [
    "df_not_vote = df_eligible[df_eligible['did_vote'] != 1]\n",
    "len(df_not_vote.index)"
   ]
  },
  {
   "cell_type": "markdown",
   "metadata": {},
   "source": [
    "We need to get rid of some of the excess text around the columns corresponding to barrier options."
   ]
  },
  {
   "cell_type": "code",
   "execution_count": 106,
   "metadata": {},
   "outputs": [
    {
     "name": "stderr",
     "output_type": "stream",
     "text": [
      "/var/folders/tc/rrbf67xd4h98qrpph8v1h9c00000gn/T/ipykernel_21046/1806834040.py:1: FutureWarning: The default value of regex will change from True to False in a future version.\n",
      "  df_not_vote.columns = df_not_vote.columns.str.replace(r'What reasons contributed to your decision not to vote\\?', '')\n",
      "/var/folders/tc/rrbf67xd4h98qrpph8v1h9c00000gn/T/ipykernel_21046/1806834040.py:2: FutureWarning: The default value of regex will change from True to False in a future version.\n",
      "  df_not_vote.columns = df_not_vote.columns.str.replace(r'\\n\\(Select all that apply\\)', '')\n",
      "/var/folders/tc/rrbf67xd4h98qrpph8v1h9c00000gn/T/ipykernel_21046/1806834040.py:3: FutureWarning: The default value of regex will change from True to False in a future version.\n",
      "  df_not_vote.columns = df_not_vote.columns.str.replace(r'\\(', '')\n",
      "/var/folders/tc/rrbf67xd4h98qrpph8v1h9c00000gn/T/ipykernel_21046/1806834040.py:4: FutureWarning: The default value of regex will change from True to False in a future version.\n",
      "  df_not_vote.columns = df_not_vote.columns.str.replace(r'\\)', '')\n"
     ]
    }
   ],
   "source": [
    "df_not_vote.columns = df_not_vote.columns.str.replace(r'What reasons contributed to your decision not to vote\\?', '')\n",
    "df_not_vote.columns = df_not_vote.columns.str.replace(r'\\n\\(Select all that apply\\)', '')\n",
    "df_not_vote.columns = df_not_vote.columns.str.replace(r'\\(', '')\n",
    "df_not_vote.columns = df_not_vote.columns.str.replace(r'\\)', '')"
   ]
  },
  {
   "cell_type": "markdown",
   "metadata": {},
   "source": [
    "We also want to identify the columns corresponding to the specific barriers"
   ]
  },
  {
   "cell_type": "code",
   "execution_count": 107,
   "metadata": {},
   "outputs": [
    {
     "data": {
      "text/plain": [
       "[' I am unsure how to register to vote, if I am registered, or where I am registered',\n",
       " ' I am not sure how to request a mail-in ballot or what the deadlines for submission are',\n",
       " \" I don't know about the candidates or issues where I am registered\",\n",
       " \" I don't care about the outcome of the election or hold strong political beliefs\",\n",
       " \" I don't want to vote\",\n",
       " ' I want to vote, but I am too busy ',\n",
       " ' There is no way to leave work for long enough time to vote',\n",
       " ' Other',\n",
       " 'Please describe...']"
      ]
     },
     "execution_count": 107,
     "metadata": {},
     "output_type": "execute_result"
    }
   ],
   "source": [
    "barrier_cols = df_not_vote.columns[13:22].to_list()\n",
    "barrier_cols"
   ]
  },
  {
   "cell_type": "code",
   "execution_count": 108,
   "metadata": {},
   "outputs": [
    {
     "data": {
      "text/html": [
       "<div>\n",
       "<style scoped>\n",
       "    .dataframe tbody tr th:only-of-type {\n",
       "        vertical-align: middle;\n",
       "    }\n",
       "\n",
       "    .dataframe tbody tr th {\n",
       "        vertical-align: top;\n",
       "    }\n",
       "\n",
       "    .dataframe thead th {\n",
       "        text-align: right;\n",
       "    }\n",
       "</style>\n",
       "<table border=\"1\" class=\"dataframe\">\n",
       "  <thead>\n",
       "    <tr style=\"text-align: right;\">\n",
       "      <th></th>\n",
       "      <th>Respondent ID</th>\n",
       "      <th>barrier</th>\n",
       "      <th>value</th>\n",
       "    </tr>\n",
       "  </thead>\n",
       "  <tbody>\n",
       "    <tr>\n",
       "      <th>0</th>\n",
       "      <td>0QaGly</td>\n",
       "      <td>I am unsure how to register to vote, if I am ...</td>\n",
       "      <td>False</td>\n",
       "    </tr>\n",
       "    <tr>\n",
       "      <th>1</th>\n",
       "      <td>2E7VGA</td>\n",
       "      <td>I am unsure how to register to vote, if I am ...</td>\n",
       "      <td>False</td>\n",
       "    </tr>\n",
       "    <tr>\n",
       "      <th>2</th>\n",
       "      <td>obvgJM</td>\n",
       "      <td>I am unsure how to register to vote, if I am ...</td>\n",
       "      <td>False</td>\n",
       "    </tr>\n",
       "    <tr>\n",
       "      <th>3</th>\n",
       "      <td>1A6O84</td>\n",
       "      <td>I am unsure how to register to vote, if I am ...</td>\n",
       "      <td>True</td>\n",
       "    </tr>\n",
       "    <tr>\n",
       "      <th>4</th>\n",
       "      <td>ODEzk7</td>\n",
       "      <td>I am unsure how to register to vote, if I am ...</td>\n",
       "      <td>False</td>\n",
       "    </tr>\n",
       "    <tr>\n",
       "      <th>...</th>\n",
       "      <td>...</td>\n",
       "      <td>...</td>\n",
       "      <td>...</td>\n",
       "    </tr>\n",
       "    <tr>\n",
       "      <th>130</th>\n",
       "      <td>2EROze</td>\n",
       "      <td>Please describe...</td>\n",
       "      <td>NaN</td>\n",
       "    </tr>\n",
       "    <tr>\n",
       "      <th>131</th>\n",
       "      <td>PdP8QB</td>\n",
       "      <td>Please describe...</td>\n",
       "      <td>NaN</td>\n",
       "    </tr>\n",
       "    <tr>\n",
       "      <th>132</th>\n",
       "      <td>jaE5Q1</td>\n",
       "      <td>Please describe...</td>\n",
       "      <td>NaN</td>\n",
       "    </tr>\n",
       "    <tr>\n",
       "      <th>133</th>\n",
       "      <td>eqoKkk</td>\n",
       "      <td>Please describe...</td>\n",
       "      <td>NaN</td>\n",
       "    </tr>\n",
       "    <tr>\n",
       "      <th>134</th>\n",
       "      <td>dWpNEq</td>\n",
       "      <td>Please describe...</td>\n",
       "      <td>NaN</td>\n",
       "    </tr>\n",
       "  </tbody>\n",
       "</table>\n",
       "<p>135 rows × 3 columns</p>\n",
       "</div>"
      ],
      "text/plain": [
       "    Respondent ID                                            barrier  value\n",
       "0          0QaGly   I am unsure how to register to vote, if I am ...  False\n",
       "1          2E7VGA   I am unsure how to register to vote, if I am ...  False\n",
       "2          obvgJM   I am unsure how to register to vote, if I am ...  False\n",
       "3          1A6O84   I am unsure how to register to vote, if I am ...   True\n",
       "4          ODEzk7   I am unsure how to register to vote, if I am ...  False\n",
       "..            ...                                                ...    ...\n",
       "130        2EROze                                 Please describe...    NaN\n",
       "131        PdP8QB                                 Please describe...    NaN\n",
       "132        jaE5Q1                                 Please describe...    NaN\n",
       "133        eqoKkk                                 Please describe...    NaN\n",
       "134        dWpNEq                                 Please describe...    NaN\n",
       "\n",
       "[135 rows x 3 columns]"
      ]
     },
     "execution_count": 108,
     "metadata": {},
     "output_type": "execute_result"
    }
   ],
   "source": [
    "df_melt = df_not_vote.melt(\n",
    "    id_vars = ['Respondent ID'],\n",
    "    value_vars = barrier_cols,\n",
    "    var_name='barrier'\n",
    ")\n",
    "\n",
    "df_melt"
   ]
  },
  {
   "cell_type": "code",
   "execution_count": 109,
   "metadata": {},
   "outputs": [
    {
     "data": {
      "text/html": [
       "<div>\n",
       "<style scoped>\n",
       "    .dataframe tbody tr th:only-of-type {\n",
       "        vertical-align: middle;\n",
       "    }\n",
       "\n",
       "    .dataframe tbody tr th {\n",
       "        vertical-align: top;\n",
       "    }\n",
       "\n",
       "    .dataframe thead th {\n",
       "        text-align: right;\n",
       "    }\n",
       "</style>\n",
       "<table border=\"1\" class=\"dataframe\">\n",
       "  <thead>\n",
       "    <tr style=\"text-align: right;\">\n",
       "      <th></th>\n",
       "      <th>barrier</th>\n",
       "      <th>count</th>\n",
       "      <th>total</th>\n",
       "    </tr>\n",
       "  </thead>\n",
       "  <tbody>\n",
       "    <tr>\n",
       "      <th>0</th>\n",
       "      <td>I am not sure how to request a mail-in ballot...</td>\n",
       "      <td>6</td>\n",
       "      <td>15</td>\n",
       "    </tr>\n",
       "    <tr>\n",
       "      <th>1</th>\n",
       "      <td>I am unsure how to register to vote, if I am ...</td>\n",
       "      <td>2</td>\n",
       "      <td>15</td>\n",
       "    </tr>\n",
       "    <tr>\n",
       "      <th>2</th>\n",
       "      <td>I don't care about the outcome of the electio...</td>\n",
       "      <td>1</td>\n",
       "      <td>15</td>\n",
       "    </tr>\n",
       "    <tr>\n",
       "      <th>3</th>\n",
       "      <td>I don't know about the candidates or issues w...</td>\n",
       "      <td>3</td>\n",
       "      <td>15</td>\n",
       "    </tr>\n",
       "    <tr>\n",
       "      <th>4</th>\n",
       "      <td>I don't want to vote</td>\n",
       "      <td>0</td>\n",
       "      <td>15</td>\n",
       "    </tr>\n",
       "    <tr>\n",
       "      <th>5</th>\n",
       "      <td>I want to vote, but I am too busy</td>\n",
       "      <td>9</td>\n",
       "      <td>15</td>\n",
       "    </tr>\n",
       "    <tr>\n",
       "      <th>6</th>\n",
       "      <td>Other</td>\n",
       "      <td>1</td>\n",
       "      <td>15</td>\n",
       "    </tr>\n",
       "    <tr>\n",
       "      <th>7</th>\n",
       "      <td>There is no way to leave work for long enough...</td>\n",
       "      <td>7</td>\n",
       "      <td>15</td>\n",
       "    </tr>\n",
       "    <tr>\n",
       "      <th>8</th>\n",
       "      <td>Please describe...</td>\n",
       "      <td>Missed absentee ballot deadline</td>\n",
       "      <td>15</td>\n",
       "    </tr>\n",
       "  </tbody>\n",
       "</table>\n",
       "</div>"
      ],
      "text/plain": [
       "                                             barrier  \\\n",
       "0   I am not sure how to request a mail-in ballot...   \n",
       "1   I am unsure how to register to vote, if I am ...   \n",
       "2   I don't care about the outcome of the electio...   \n",
       "3   I don't know about the candidates or issues w...   \n",
       "4                               I don't want to vote   \n",
       "5                 I want to vote, but I am too busy    \n",
       "6                                              Other   \n",
       "7   There is no way to leave work for long enough...   \n",
       "8                                 Please describe...   \n",
       "\n",
       "                             count  total  \n",
       "0                                6     15  \n",
       "1                                2     15  \n",
       "2                                1     15  \n",
       "3                                3     15  \n",
       "4                                0     15  \n",
       "5                                9     15  \n",
       "6                                1     15  \n",
       "7                                7     15  \n",
       "8  Missed absentee ballot deadline     15  "
      ]
     },
     "execution_count": 109,
     "metadata": {},
     "output_type": "execute_result"
    }
   ],
   "source": [
    "df_barriers = df_melt.groupby('barrier').agg(\n",
    "    count = ('value', 'sum'),\n",
    "    total = ('Respondent ID', 'nunique')\n",
    ")\n",
    "\n",
    "df_barriers.reset_index(inplace=True)\n",
    "df_barriers"
   ]
  },
  {
   "cell_type": "markdown",
   "metadata": {},
   "source": [
    "There was one respondent who filled out the other column and wrote that they missed the absentee ballot deadline. Given that absentee voting is related to mail in voting, we will add that to the mail in ballot count to make it 7."
   ]
  },
  {
   "cell_type": "code",
   "execution_count": 110,
   "metadata": {},
   "outputs": [
    {
     "name": "stderr",
     "output_type": "stream",
     "text": [
      "/var/folders/tc/rrbf67xd4h98qrpph8v1h9c00000gn/T/ipykernel_21046/338483807.py:3: SettingWithCopyWarning: \n",
      "A value is trying to be set on a copy of a slice from a DataFrame\n",
      "\n",
      "See the caveats in the documentation: https://pandas.pydata.org/pandas-docs/stable/user_guide/indexing.html#returning-a-view-versus-a-copy\n",
      "  df_barriers.sort_values(by='count', ascending=False, inplace=True)\n",
      "/var/folders/tc/rrbf67xd4h98qrpph8v1h9c00000gn/T/ipykernel_21046/338483807.py:4: SettingWithCopyWarning: \n",
      "A value is trying to be set on a copy of a slice from a DataFrame.\n",
      "Try using .loc[row_indexer,col_indexer] = value instead\n",
      "\n",
      "See the caveats in the documentation: https://pandas.pydata.org/pandas-docs/stable/user_guide/indexing.html#returning-a-view-versus-a-copy\n",
      "  df_barriers['pct'] = df_barriers['count']/df_barriers['total']\n"
     ]
    },
    {
     "data": {
      "text/html": [
       "<div>\n",
       "<style scoped>\n",
       "    .dataframe tbody tr th:only-of-type {\n",
       "        vertical-align: middle;\n",
       "    }\n",
       "\n",
       "    .dataframe tbody tr th {\n",
       "        vertical-align: top;\n",
       "    }\n",
       "\n",
       "    .dataframe thead th {\n",
       "        text-align: right;\n",
       "    }\n",
       "</style>\n",
       "<table border=\"1\" class=\"dataframe\">\n",
       "  <thead>\n",
       "    <tr style=\"text-align: right;\">\n",
       "      <th></th>\n",
       "      <th>barrier</th>\n",
       "      <th>count</th>\n",
       "      <th>total</th>\n",
       "      <th>pct</th>\n",
       "    </tr>\n",
       "  </thead>\n",
       "  <tbody>\n",
       "    <tr>\n",
       "      <th>5</th>\n",
       "      <td>I want to vote, but I am too busy</td>\n",
       "      <td>9</td>\n",
       "      <td>15</td>\n",
       "      <td>0.6</td>\n",
       "    </tr>\n",
       "    <tr>\n",
       "      <th>0</th>\n",
       "      <td>I am not sure how to request a mail-in ballot...</td>\n",
       "      <td>7</td>\n",
       "      <td>15</td>\n",
       "      <td>0.466667</td>\n",
       "    </tr>\n",
       "    <tr>\n",
       "      <th>7</th>\n",
       "      <td>There is no way to leave work for long enough...</td>\n",
       "      <td>7</td>\n",
       "      <td>15</td>\n",
       "      <td>0.466667</td>\n",
       "    </tr>\n",
       "    <tr>\n",
       "      <th>3</th>\n",
       "      <td>I don't know about the candidates or issues w...</td>\n",
       "      <td>3</td>\n",
       "      <td>15</td>\n",
       "      <td>0.2</td>\n",
       "    </tr>\n",
       "    <tr>\n",
       "      <th>1</th>\n",
       "      <td>I am unsure how to register to vote, if I am ...</td>\n",
       "      <td>2</td>\n",
       "      <td>15</td>\n",
       "      <td>0.133333</td>\n",
       "    </tr>\n",
       "    <tr>\n",
       "      <th>2</th>\n",
       "      <td>I don't care about the outcome of the electio...</td>\n",
       "      <td>1</td>\n",
       "      <td>15</td>\n",
       "      <td>0.066667</td>\n",
       "    </tr>\n",
       "    <tr>\n",
       "      <th>6</th>\n",
       "      <td>Other</td>\n",
       "      <td>1</td>\n",
       "      <td>15</td>\n",
       "      <td>0.066667</td>\n",
       "    </tr>\n",
       "    <tr>\n",
       "      <th>4</th>\n",
       "      <td>I don't want to vote</td>\n",
       "      <td>0</td>\n",
       "      <td>15</td>\n",
       "      <td>0.0</td>\n",
       "    </tr>\n",
       "  </tbody>\n",
       "</table>\n",
       "</div>"
      ],
      "text/plain": [
       "                                             barrier count  total       pct\n",
       "5                 I want to vote, but I am too busy      9     15       0.6\n",
       "0   I am not sure how to request a mail-in ballot...     7     15  0.466667\n",
       "7   There is no way to leave work for long enough...     7     15  0.466667\n",
       "3   I don't know about the candidates or issues w...     3     15       0.2\n",
       "1   I am unsure how to register to vote, if I am ...     2     15  0.133333\n",
       "2   I don't care about the outcome of the electio...     1     15  0.066667\n",
       "6                                              Other     1     15  0.066667\n",
       "4                               I don't want to vote     0     15       0.0"
      ]
     },
     "execution_count": 110,
     "metadata": {},
     "output_type": "execute_result"
    }
   ],
   "source": [
    "df_barriers['count'] = df_barriers['count'].replace(6, 7)\n",
    "df_barriers = df_barriers[~df_barriers['barrier'].isin(['Other', 'Please describe...'])]\n",
    "df_barriers.sort_values(by='count', ascending=False, inplace=True)\n",
    "df_barriers['pct'] = df_barriers['count']/df_barriers['total']\n",
    "df_barriers"
   ]
  },
  {
   "cell_type": "code",
   "execution_count": null,
   "metadata": {},
   "outputs": [],
   "source": []
  }
 ],
 "metadata": {
  "kernelspec": {
   "display_name": "Python 3",
   "language": "python",
   "name": "python3"
  },
  "language_info": {
   "codemirror_mode": {
    "name": "ipython",
    "version": 3
   },
   "file_extension": ".py",
   "mimetype": "text/x-python",
   "name": "python",
   "nbconvert_exporter": "python",
   "pygments_lexer": "ipython3",
   "version": "3.10.5"
  }
 },
 "nbformat": 4,
 "nbformat_minor": 2
}
